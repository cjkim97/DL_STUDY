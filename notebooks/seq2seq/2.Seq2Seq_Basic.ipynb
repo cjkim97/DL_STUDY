{
 "cells": [
  {
   "cell_type": "code",
   "execution_count": 1,
   "metadata": {},
   "outputs": [],
   "source": [
    "import torch\n",
    "import torch.nn as nn\n",
    "import torch.nn.functional as F\n",
    "import torch.optim as optim\n",
    "\n",
    "from torchtext.datasets import Multi30k\n",
    "from torchtext.data import Field # 데이터를 어떻게 처리할지 조절\n",
    "from torchtext.data import BucketIterator\n",
    "\n",
    "import spacy\n",
    "import numpy as np\n",
    "\n",
    "import random\n",
    "import math\n",
    "import time"
   ]
  },
  {
   "cell_type": "code",
   "execution_count": 2,
   "metadata": {},
   "outputs": [],
   "source": [
    "# 시드 설정\n",
    "seed = 55\n",
    "\n",
    "random.seed(seed)\n",
    "np.random.seed(seed)\n",
    "torch.manual_seed(seed)\n",
    "torch.cuda.manual_seed(seed)\n",
    "torch.backends.cudnn.deterministic = True"
   ]
  },
  {
   "cell_type": "markdown",
   "metadata": {},
   "source": [
    "### DATA 불러오기"
   ]
  },
  {
   "cell_type": "code",
   "execution_count": 3,
   "metadata": {},
   "outputs": [],
   "source": [
    "import de_core_news_sm\n",
    "import en_core_web_sm"
   ]
  },
  {
   "cell_type": "code",
   "execution_count": 4,
   "metadata": {},
   "outputs": [],
   "source": [
    "spacy_en = en_core_web_sm.load()\n",
    "spacy_de = de_core_news_sm.load()"
   ]
  },
  {
   "cell_type": "code",
   "execution_count": 5,
   "metadata": {},
   "outputs": [],
   "source": [
    "def tokenize_de(text): # 역순으로 가져오는게 더 좋은 학습을 했다는 연구가 있음\n",
    "    return [tok.text for tok in spacy_de.tokenizer(text)][::-1]\n",
    "\n",
    "def tokenize_en(text):\n",
    "    return [tok.text for tok in spacy_en.tokenizer(text)]\n",
    "\n",
    "\n",
    "#\n",
    "SRC = Field(tokenize = tokenize_de, \n",
    "           init_token = '<sos>',\n",
    "           eos_token = '<eos>',\n",
    "           lower = True)\n",
    "\n",
    "TRG = Field(tokenize = tokenize_en,\n",
    "           init_token = '<sos>',\n",
    "           eos_token = '<eos>',\n",
    "           lower = True)"
   ]
  },
  {
   "cell_type": "code",
   "execution_count": 6,
   "metadata": {},
   "outputs": [],
   "source": [
    "train_data, valid_data, test_data = Multi30k.splits(exts=('.de', '.en'), fields=(SRC, TRG))"
   ]
  },
  {
   "cell_type": "code",
   "execution_count": 7,
   "metadata": {},
   "outputs": [
    {
     "name": "stdout",
     "output_type": "stream",
     "text": [
      "['.', 'büsche', 'vieler', 'nähe', 'der', 'in', 'freien', 'im', 'sind', 'männer', 'weiße', 'junge', 'zwei']\n",
      "['two', 'young', ',', 'white', 'males', 'are', 'outside', 'near', 'many', 'bushes', '.']\n"
     ]
    }
   ],
   "source": [
    "# 예시 확인\n",
    "print(train_data.examples[0].src)\n",
    "print(train_data.examples[0].trg)"
   ]
  },
  {
   "cell_type": "code",
   "execution_count": 8,
   "metadata": {},
   "outputs": [],
   "source": [
    "# min_freq = 2 : 2번 이상 등장한 토큰을 출력\n",
    "# 토큰이 1번 등장 시, <unk> 로 대체\n",
    "SRC.build_vocab(train_data, min_freq=2)\n",
    "TRG.build_vocab(train_data, min_freq=2)"
   ]
  },
  {
   "cell_type": "code",
   "execution_count": 80,
   "metadata": {},
   "outputs": [],
   "source": [
    "device = torch.device('cuda' if torch.cuda.is_available() else 'cpu')\n",
    "device = 'cpu' # cuda가 왜 안 되지..\n",
    "\n",
    "# print(device) # cuda 확인용 \\\n",
    "batch_size = 128\n",
    "train_iter, valid_iter, test_iter = BucketIterator.splits(\n",
    "    (train_data, valid_data, test_data), batch_size = batch_size, device = device\n",
    ")"
   ]
  },
  {
   "cell_type": "markdown",
   "metadata": {},
   "source": [
    "### Seq2Seq 구현"
   ]
  },
  {
   "attachments": {
    "78571a58-9566-4bb5-9730-f481cba5dd78.png": {
     "image/png": "[encoded data removed]"
    }
   },
   "cell_type": "markdown",
   "metadata": {},
   "source": [
    "![image.png](attachment:78571a58-9566-4bb5-9730-f481cba5dd78.png)"
   ]
  },
  {
   "cell_type": "code",
   "execution_count": 81,
   "metadata": {},
   "outputs": [],
   "source": [
    "# Encoder 구현\n",
    "class Encoder(nn.Module):\n",
    "    def __init__(self, input_size, emb_size, hidden_size, n_layers, dropout): \n",
    "        \n",
    "        # input_size : input 데이터의 vocab_size\n",
    "        # emb_size : 임베딩 사이즈\n",
    "        # hidden_size : 히든 스테이트 차원(=cell state 차원)\n",
    "        # n_layers : RNN 레이어 개수\n",
    "        # dropout : 과적합 방지용\n",
    "        # n_directions =1 // 이때, bidirectional RNN 의 경우는 n_directions = 2 \n",
    "        \n",
    "        super(Encoder, self).__init__()\n",
    "        \n",
    "        self.hidden_size = hidden_size\n",
    "        self.emb_size = emb_size\n",
    "        self.dropout = dropout\n",
    "        \n",
    "        # 임베딩\n",
    "        self.embedding = nn.Embedding(input_size, emb_size)\n",
    "        \n",
    "        # encoder 구성을 보통 LSTM, GRU, RNN 층으로 구성하는 편?\n",
    "        self.lstm = nn.LSTM(emb_size, hidden_size, n_layers, dropout=dropout)\n",
    "        \n",
    "        self.dropout = nn.Dropout(dropout)\n",
    "         \n",
    "    def forward(self, src):\n",
    "        # x : [src_len, batch_size]\n",
    "\n",
    "        # 임베딩 - 드롭아웃 - lstm \n",
    "        x = self.embedding(src)\n",
    "        x - self.dropout(x)\n",
    "        enc_out, (hidden, cell) = self.lstm(x)\n",
    "        \n",
    "        # enc_out : [src_len, batch_size, hidden_size * n directions]\n",
    "        # hidden, cell : [n_layers * n_directions , batch_size, hidden_size]\n",
    "        \n",
    "        return hidden, cell\n",
    "    \n",
    "# Decoder 구현\n",
    "class Decoder(nn.Module):\n",
    "    # encoder 이후 마지막 hidden_state가 context vector로 들어감\n",
    "    def __init__(self, output_size, emb_size, hidden_size, n_layers, dropout): # input size 와 output size 가 같을 필요가 없음\n",
    "        super(Decoder, self).__init__()\n",
    "        \n",
    "        self.hidden_size = hidden_size\n",
    "        self.output_size = output_size\n",
    "        self.n_layers = n_layers\n",
    "        \n",
    "        self.embedding = nn.Embedding(output_size, emb_size)\n",
    "        self.lstm = nn.LSTM(emb_size, hidden_size, n_layers, dropout=dropout)\n",
    "        self.linear = nn.Linear(hidden_size, output_size) #fc layer \n",
    "        self.dropout = nn.Dropout(dropout)\n",
    "        \n",
    "    def forward(self, inp, hidden, cell):\n",
    "        # inp : [batch_size]\n",
    "        # hidden, cell : [n_layers * n_directions, batch_size, hidden_size]\n",
    "        inp = inp.unsqueeze(0) # inp -> [1, batch_size]\n",
    "        \n",
    "        x = self.embedding(inp)\n",
    "        x = self.dropout(x)\n",
    "        \n",
    "        dec_out, (hidden, cell) = self.lstm(x, (hidden,cell)) # 두 인자의 의미..?\n",
    "        # dec_out : [seq_len, batch_size, hidden_size * n_directions]\n",
    "        # hidden, cell : [n_layers * n_directions, batch_size, hidden_size]\n",
    "        \n",
    "        \n",
    "        pred = self.linear(dec_out.squeeze(0))\n",
    "        return pred, hidden, cell"
   ]
  },
  {
   "cell_type": "code",
   "execution_count": 82,
   "metadata": {},
   "outputs": [],
   "source": [
    "# Seq2Seq 구현\n",
    "class Seq2Seq(nn.Module):\n",
    "    def __init__(self, encoder, decoder):\n",
    "        super(Seq2Seq, self).__init__()\n",
    "        self.encoder = encoder\n",
    "        self.decoder = decoder\n",
    "        \n",
    "    def forward(self, src, trg, teacher_forcing_ratio = 0.5):\n",
    "        # src = [src len, batch_Size]\n",
    "        # trg = [trg len, bastch_size]\n",
    "        \n",
    "        trg_len = trg.shape[0] # 타켓 토큰 길이\n",
    "        batch_size - trg.shape[1] \n",
    "        trg_vocab_size = self.decoder.output_size\n",
    "        \n",
    "        # decoder 결과를 저장할 텐서\n",
    "        outputs = torch.zeros(trg_len, batch_size, trg_vocab_size)\n",
    "        \n",
    "        # encoder 마지막 hidden state : context vector\n",
    "        hidden, cell = self.encoder(src)\n",
    "        \n",
    "        # Decoder에 들어갈 첫 input 은 <sos>\n",
    "        inp = trg[0, :]\n",
    "        \n",
    "        for t in range(1, trg_len):  # <eos> 제외하고 trg_len-1 만큼 반복\n",
    "            output, hidden, cell = self.decoder(inp,  hidden, cell)\n",
    "            outputs[t] = output \n",
    "            \n",
    "            teacher_force = random.random() < teacher_forcing_ratio \n",
    "            top1 = output.argmax(1)\n",
    "            \n",
    "            \n",
    "            # 일정 확률로 다음 LSTM 블록에 이전 예측 결과 값이 아니라 target(정답)을 입력\n",
    "            inp = trg[t] if teacher_force else top1\n",
    "        \n",
    "        return outputs"
   ]
  },
  {
   "cell_type": "code",
   "execution_count": 83,
   "metadata": {},
   "outputs": [
    {
     "data": {
      "text/plain": [
       "7853"
      ]
     },
     "execution_count": 83,
     "metadata": {},
     "output_type": "execute_result"
    }
   ],
   "source": [
    "len(SRC.vocab.itos) # itos : integer to string? 반대로 stoi : string to integer"
   ]
  },
  {
   "cell_type": "markdown",
   "metadata": {},
   "source": [
    "## 학습"
   ]
  },
  {
   "cell_type": "markdown",
   "metadata": {},
   "source": [
    "\n",
    "### 하이퍼파라미터\n",
    "- input_size : input 데이터의 vocab_size\n",
    "- emb_size : 임베딩 사이즈\n",
    "- hidden_size : 히든 스테이트 차원(=cell state 차원)\n",
    "- n_layers : RNN 레이어 개수\n",
    "- dropout : 과적합 방지용\n",
    "- n_directions =1 // 이때, bidirectional RNN 의 경우는 n_directions = 2 \n"
   ]
  },
  {
   "cell_type": "code",
   "execution_count": 84,
   "metadata": {},
   "outputs": [],
   "source": [
    "# 하이퍼 파라미터 설정\n",
    "inp_dim = len(SRC.vocab)\n",
    "out_dim = len(TRG.vocab)\n",
    "\n",
    "enc_emb_dim = 256 #임베딩 차원\n",
    "dec_emb_dim = 256\n",
    "\n",
    "hid_dim = 512 # hidden state 차원\n",
    "n_layers = 2\n",
    "enc_dropout = 0.5\n",
    "dec_dropout = 0.5"
   ]
  },
  {
   "cell_type": "code",
   "execution_count": 85,
   "metadata": {},
   "outputs": [],
   "source": [
    "# 모델 생성\n",
    "enc = Encoder(input_size=inp_dim, emb_size=enc_emb_dim, hidden_size= hid_dim, n_layers=n_layers, dropout=enc_dropout)\n",
    "dec = Decoder(output_size=out_dim, emb_size=dec_emb_dim, hidden_size= hid_dim, n_layers=n_layers, dropout=dec_dropout)\n",
    "model = Seq2Seq(enc,dec).to(device)"
   ]
  },
  {
   "cell_type": "code",
   "execution_count": 86,
   "metadata": {},
   "outputs": [
    {
     "data": {
      "text/plain": [
       "Seq2Seq(\n",
       "  (encoder): Encoder(\n",
       "    (embedding): Embedding(7853, 256)\n",
       "    (lstm): LSTM(256, 512, num_layers=2, dropout=0.5)\n",
       "    (dropout): Dropout(p=0.5, inplace=False)\n",
       "  )\n",
       "  (decoder): Decoder(\n",
       "    (embedding): Embedding(5893, 256)\n",
       "    (lstm): LSTM(256, 512, num_layers=2, dropout=0.5)\n",
       "    (linear): Linear(in_features=512, out_features=5893, bias=True)\n",
       "    (dropout): Dropout(p=0.5, inplace=False)\n",
       "  )\n",
       ")"
      ]
     },
     "execution_count": 86,
     "metadata": {},
     "output_type": "execute_result"
    }
   ],
   "source": [
    "# 가중치 초기화\n",
    "def init_weights(m):\n",
    "    for name, param in m.named_parameters():\n",
    "        nn.init.uniform_(param.data, -0.08, 0.08)\n",
    "        \n",
    "model.apply(init_weights)"
   ]
  },
  {
   "cell_type": "code",
   "execution_count": 87,
   "metadata": {},
   "outputs": [
    {
     "name": "stdout",
     "output_type": "stream",
     "text": [
      "The model has 13,898,501 trainableparameters\n"
     ]
    }
   ],
   "source": [
    "# 모델 학습 가능한 파라미터 수 측정\n",
    "def count_parameters(model):\n",
    "    return sum(p.numel() for p in model.parameters() if p.requires_grad)\n",
    "\n",
    "print(f'The model has {count_parameters(model):,} trainableparameters')"
   ]
  },
  {
   "cell_type": "code",
   "execution_count": 88,
   "metadata": {},
   "outputs": [],
   "source": [
    "# optimizer\n",
    "optimizer = optim.Adam(model.parameters())\n",
    "\n",
    "# loss function\n",
    "trg_pad_idx = TRG.vocab.stoi[TRG.pad_token] # string to integer\n",
    "criterion = nn.CrossEntropyLoss(ignore_index=trg_pad_idx) # pad 에 해당하는 index는 무시하도록"
   ]
  },
  {
   "cell_type": "code",
   "execution_count": 89,
   "metadata": {},
   "outputs": [],
   "source": [
    "def train(model, iterator, optimizer, criterion, clip):\n",
    "    print('train mode')\n",
    "    model.train()\n",
    "    epoch_loss = 0\n",
    "    \n",
    "    for i , batch in enumerate(iterator):\n",
    "        src = batch.src\n",
    "        trg = batch.trg\n",
    "        optimizer.zero_grad()\n",
    "        \n",
    "        output = model(src, trg) # [trg len, batch size, output dim]\n",
    "        output_size = output.shape[-1]\n",
    "        \n",
    "        #print(f'output shape : {output.shape}')\n",
    "        output = output[1:].view(-1, output_size)\n",
    "        #print(f'output shape : {output.shape}')\n",
    "        #print(f'trg shape : {trg.shape}')\n",
    "        trg = trg[1:].view(-1)\n",
    "        #print(f'trg shape : {trg.shape}')\n",
    "        \n",
    "        loss = criterion(output, trg)\n",
    "        loss.backward()\n",
    "        \n",
    "        # 기울기 clip\n",
    "        torch.nn.utils.clip_grad_norm_(model.parameters(), clip)\n",
    "        \n",
    "        optimizer.step()\n",
    "        epoch_loss += loss.item()\n",
    "        \n",
    "    return epoch_loss / len(iterator)"
   ]
  },
  {
   "cell_type": "code",
   "execution_count": 90,
   "metadata": {},
   "outputs": [],
   "source": [
    "def evaluate(model, iterator, criterion):\n",
    "    print('eval mode')\n",
    "    model.eval()\n",
    "    epoch_loss = 0\n",
    "    \n",
    "    with torch.no_grad():\n",
    "        for i, batch in enumerate(iterator):\n",
    "            src = batch.src\n",
    "            trg = batch.trg\n",
    "            \n",
    "            # [trg_len, batch_size, output_size]\n",
    "            output = model(src, trg, teacher_forcing_ratio = 0) # teacher forcing을 없애주기 위함\n",
    "            output_size = output.shape[-1]\n",
    "            #rint(f'output shape : {output.shape}')\n",
    "            output = output[1:].view(-1, output_size) # [(trg_len-1)*batch_size, output_size]\n",
    "            #rint(f'output shape : {output.shape}')\n",
    "            \n",
    "            #rint(f'trg shape : {trg.shape}')\n",
    "            trg = trg[1:].view(-1)\n",
    "            #print(f'trg shape : {trg.shape}')\n",
    "            \n",
    "            loss = criterion(output, trg)\n",
    "            \n",
    "            epoch_loss += loss.item()\n",
    "            \n",
    "        return epoch_loss / len(iterator)"
   ]
  },
  {
   "cell_type": "code",
   "execution_count": 91,
   "metadata": {},
   "outputs": [],
   "source": [
    "from tqdm import tqdm"
   ]
  },
  {
   "cell_type": "code",
   "execution_count": null,
   "metadata": {},
   "outputs": [
    {
     "name": "stderr",
     "output_type": "stream",
     "text": [
      "  0%|          | 0/1 [00:00<?, ?it/s]"
     ]
    },
    {
     "name": "stdout",
     "output_type": "stream",
     "text": [
      "train mode\n"
     ]
    }
   ],
   "source": [
    "%%time\n",
    "num_epochs = 1\n",
    "clip = 1\n",
    "\n",
    "best_valid_loss = float('inf')\n",
    "\n",
    "for epoch in tqdm(range(num_epochs)):\n",
    "    \n",
    "#     start_time = time.time()\n",
    "    \n",
    "    train_loss = train(model, train_iter, optimizer, criterion, clip)\n",
    "    valid_loss = evaluate(model, valid_iter, criterion)\n",
    "    \n",
    "#     end_time = time.time()\n",
    "    \n",
    "    #epoch_mins, epoch_secs = epoch_time(start_time, end_time)\n",
    "    \n",
    "#     if valid_loss < best_valid_loss:\n",
    "#         best_valid_loss = valid_loss\n",
    "#         torch.save(model.state_dict(), 'tut1-model.pt')\n",
    "    \n",
    "#     print(f'Epoch: {epoch+1:02} | Time: {epoch_mins}m {epoch_secs}s')\n",
    "#     print(f'\\tTrain Loss: {train_loss:.3f} | Train PPL: {math.exp(train_loss):7.3f}')\n",
    "#     print(f'\\t Val. Loss: {valid_loss:.3f} |  Val. PPL: {math.exp(valid_loss):7.3f}')"
   ]
  },
  {
   "cell_type": "code",
   "execution_count": null,
   "metadata": {},
   "outputs": [],
   "source": [
    "### "
   ]
  }
 ],
 "metadata": {
  "kernelspec": {
   "display_name": "Python 3",
   "language": "python",
   "name": "python3"
  },
  "language_info": {
   "codemirror_mode": {
    "name": "ipython",
    "version": 3
   },
   "file_extension": ".py",
   "mimetype": "text/x-python",
   "name": "python",
   "nbconvert_exporter": "python",
   "pygments_lexer": "ipython3",
   "version": "3.8.6"
  }
 },
 "nbformat": 4,
 "nbformat_minor": 4
}
